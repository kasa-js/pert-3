{
  "nbformat": 4,
  "nbformat_minor": 0,
  "metadata": {
    "colab": {
      "provenance": [],
      "authorship_tag": "ABX9TyM9/uLT2I0AQuNzOG4OyqqC",
      "include_colab_link": true
    },
    "kernelspec": {
      "name": "python3",
      "display_name": "Python 3"
    },
    "language_info": {
      "name": "python"
    }
  },
  "cells": [
    {
      "cell_type": "markdown",
      "metadata": {
        "id": "view-in-github",
        "colab_type": "text"
      },
      "source": [
        "<a href=\"https://colab.research.google.com/github/kasa-js/pert-3/blob/main/Tugas_pert_3.ipynb\" target=\"_parent\"><img src=\"https://colab.research.google.com/assets/colab-badge.svg\" alt=\"Open In Colab\"/></a>"
      ]
    },
    {
      "cell_type": "code",
      "source": [
        "import pandas as pd"
      ],
      "metadata": {
        "id": "h2z_fF9OoQM9"
      },
      "execution_count": 3,
      "outputs": []
    },
    {
      "cell_type": "code",
      "source": [
        "data = {'Nama': ['Arlian Purnama', 'Alisa Dityaningrum', 'Kiki Anggraeni', 'Rizky Kurniawan'],\n",
        "        'Gender': ['Laki-lai', 'Perempuan', 'Perempuan', 'Laki-laki'],\n",
        "        'No Telp': ['081267001022', '087823560918', '089654009102', '082267018967']}\n",
        "df = pd.DataFrame(data)\n",
        "print(df)"
      ],
      "metadata": {
        "colab": {
          "base_uri": "https://localhost:8080/"
        },
        "id": "cEFs7YRcoTYc",
        "outputId": "49dabbfc-4484-4267-d89e-d29618960b1d"
      },
      "execution_count": 4,
      "outputs": [
        {
          "output_type": "stream",
          "name": "stdout",
          "text": [
            "                 Nama     Gender       No Telp\n",
            "0      Arlian Purnama   Laki-lai  081267001022\n",
            "1  Alisa Dityaningrum  Perempuan  087823560918\n",
            "2      Kiki Anggraeni  Perempuan  089654009102\n",
            "3     Rizky Kurniawan  Laki-laki  082267018967\n"
          ]
        }
      ]
    },
    {
      "cell_type": "code",
      "source": [
        "data = {'Nama': ['Arlian Purnama', 'Alisa Dityaningrum', 'Kiki Anggraeni', 'Rizky Kurniawan'],\n",
        "        'Gender': ['Laki-lai', 'Perempuan', 'Perempuan', 'Laki-laki'],\n",
        "        'No Telp': ['081267001022', '087823560918', '089654009102', '082267018967'],\n",
        "        'Tugas': [80,89,76,80],\n",
        "        'UTS': [88,78,90,81],\n",
        "        'UAS': [90,89,85,82],}\n",
        "df = pd.DataFrame(data)\n",
        "print(df)"
      ],
      "metadata": {
        "colab": {
          "base_uri": "https://localhost:8080/"
        },
        "id": "_WY5FP67ocSC",
        "outputId": "ffe2d4a7-8363-4960-c3b1-61ffcb5fab06"
      },
      "execution_count": 5,
      "outputs": [
        {
          "output_type": "stream",
          "name": "stdout",
          "text": [
            "                 Nama     Gender       No Telp  Tugas  UTS  UAS\n",
            "0      Arlian Purnama   Laki-lai  081267001022     80   88   90\n",
            "1  Alisa Dityaningrum  Perempuan  087823560918     89   78   89\n",
            "2      Kiki Anggraeni  Perempuan  089654009102     76   90   85\n",
            "3     Rizky Kurniawan  Laki-laki  082267018967     80   81   82\n"
          ]
        }
      ]
    },
    {
      "cell_type": "code",
      "execution_count": 6,
      "metadata": {
        "colab": {
          "base_uri": "https://localhost:8080/"
        },
        "id": "CyFIoGkBn22v",
        "outputId": "5edb93e3-2740-4e81-8b69-66f48db6b14e"
      },
      "outputs": [
        {
          "output_type": "stream",
          "name": "stdout",
          "text": [
            "                 Nama     Gender       No Telp  Tugas  UTS  UAS  Nilai_Akhir\n",
            "0      Arlian Purnama   Laki-lai  081267001022     80   88   90         86.4\n",
            "1  Alisa Dityaningrum  Perempuan  087823560918     89   78   89         85.7\n",
            "2      Kiki Anggraeni  Perempuan  089654009102     76   90   85         83.8\n",
            "3     Rizky Kurniawan  Laki-laki  082267018967     80   81   82         81.1\n"
          ]
        }
      ],
      "source": [
        "data = {'Nama': ['Arlian Purnama', 'Alisa Dityaningrum', 'Kiki Anggraeni', 'Rizky Kurniawan'],\n",
        "        'Gender': ['Laki-lai', 'Perempuan', 'Perempuan', 'Laki-laki'],\n",
        "        'No Telp': ['081267001022', '087823560918', '089654009102', '082267018967'],\n",
        "        'Tugas': [80,89,76,80],\n",
        "        'UTS': [88,78,90,81],\n",
        "        'UAS': [90,89,85,82],\n",
        "        'Nilai_Akhir':[0,0,0,0]}\n",
        "\n",
        "\n",
        "df = pd.DataFrame(data)\n",
        "\n",
        "# Hitung nilai akhir\n",
        "df['Nilai_Akhir'] = df['Tugas'] * 0.3 + df['UTS'] * 0.3 + df['UAS'] * 0.4\n",
        "\n",
        "print(df)"
      ]
    }
  ]
}